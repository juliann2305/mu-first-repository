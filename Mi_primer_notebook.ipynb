{
  "nbformat": 4,
  "nbformat_minor": 0,
  "metadata": {
    "colab": {
      "provenance": [],
      "authorship_tag": "ABX9TyMat1EBYeZ4hLjq/m5fDWLZ",
      "include_colab_link": true
    },
    "kernelspec": {
      "name": "python3",
      "display_name": "Python 3"
    },
    "language_info": {
      "name": "python"
    }
  },
  "cells": [
    {
      "cell_type": "markdown",
      "metadata": {
        "id": "view-in-github",
        "colab_type": "text"
      },
      "source": [
        "<a href=\"https://colab.research.google.com/github/juliann2305/mu-first-repository/blob/main/Mi_primer_notebook.ipynb\" target=\"_parent\"><img src=\"https://colab.research.google.com/assets/colab-badge.svg\" alt=\"Open In Colab\"/></a>"
      ]
    },
    {
      "cell_type": "code",
      "execution_count": 13,
      "metadata": {
        "colab": {
          "base_uri": "https://localhost:8080/"
        },
        "id": "W9RcXhfBlEEs",
        "outputId": "1985b3c5-0582-4105-8a43-b0fd183da529"
      },
      "outputs": [
        {
          "output_type": "stream",
          "name": "stdout",
          "text": [
            "Hola Juliana\n",
            "15\n",
            "8\n"
          ]
        }
      ],
      "source": [
        "name = \"Juliana\"\n",
        "print(\"Hola\", name)\n",
        "a=3\n",
        "b=5\n",
        "c=a*b\n",
        "d=a+b\n",
        "print (c)\n",
        "print (d)"
      ]
    },
    {
      "cell_type": "code",
      "source": [],
      "metadata": {
        "id": "Ff9JqbSomjDQ"
      },
      "execution_count": null,
      "outputs": []
    }
  ]
}